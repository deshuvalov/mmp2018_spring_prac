{
 "cells": [
  {
   "cell_type": "markdown",
   "metadata": {},
   "source": [
    "# Отчёт о выполнении практического задания 4\n",
    "## Выполнил: студент 317 группы Попов Дмитрий"
   ]
  },
  {
   "cell_type": "markdown",
   "metadata": {},
   "source": [
    "Выполнено: все пункты задания, включая бонус (итого 18 баллов). Функции в стиле ООП выделены в отдельный .py-файл с соответствующим суффиксом. В нём реализованы и используются классы F2qElement и F2qPolynomial, представляющие собой элементы поля **GF(2^q)** и кольца многочленов **GF(2^q)[X]** соответственно. Функции типа \"операция сложить/умножить/разделить\" в этом файле вызывают перегруженные операторы в самих классах. В задании не было чётко прописано, что понимается под этим пунктом, но автор надеется, что сделал всё так, как ожидалось. Демонстрация работы бонусной части идут в конце отчёта."
   ]
  },
  {
   "cell_type": "markdown",
   "metadata": {},
   "source": [
    "Модули gf.py и bch.py были протестированы **пофиксенным** тестом, прилагавшимся к заданию. В тесте изменено:\n",
    "1. Вызов функции sum() - добавлен аргумент keepdims=True, потому что судя по выданным тестам, ожидается, что функция не будет сжимать итоговый массив (можно поставить False, чтобы поведение соответствовало аналогичной функции в библиотеке Numpy).\n",
    "2. Тест алгоритма Евклида: судя по количествам элементам в ожидающихся массивах, max_deg должен быть равен 2, а не 3 (иначе алгоритм не делит до конца). Кроме того, автор убрал лидирующие нули, потому что функции он реализовывать с триммингом.\n",
    "\n",
    "Пофиксенный файл с тестами прилагается в архиве. Проверяющий может убедиться, что изменения были внесены только выше описанные."
   ]
  },
  {
   "cell_type": "code",
   "execution_count": 2,
   "metadata": {},
   "outputs": [],
   "source": [
    "import numpy as np\n",
    "from bch import BCH\n",
    "\n",
    "%matplotlib inline\n",
    "import matplotlib.pyplot as plt\n",
    "%load_ext autoreload\n",
    "%autoreload 2"
   ]
  },
  {
   "cell_type": "markdown",
   "metadata": {},
   "source": [
    "## Эксперимент 1 (пункт задания 1.5)"
   ]
  },
  {
   "cell_type": "code",
   "execution_count": 3,
   "metadata": {},
   "outputs": [
    {
     "name": "stdout",
     "output_type": "stream",
     "text": [
      "n\tt\tcan fix errors\n",
      "7\t2\t3\n"
     ]
    }
   ],
   "source": [
    "print('{0}\\t{1}\\t{2}'.format('n', 't', 'can fix errors'))\n",
    "for n_p in range(3, 5):\n",
    "    n = (1 << n_p) - 1\n",
    "    for t in range(1, 4):\n",
    "        b = BCH(n, t)\n",
    "        if b.dist() > 2 * t + 1:\n",
    "            print('{0:d}\\t{1:d}\\t{2:d}'.format(n, t, b.dist()//2))"
   ]
  },
  {
   "cell_type": "markdown",
   "metadata": {},
   "source": [
    "Искомый код найден. Построен он для исправления 2 ошибок, но на деле может исправлять до 3 (и обнаруживать 4). Есть и другие примеры:"
   ]
  },
  {
   "cell_type": "code",
   "execution_count": 4,
   "metadata": {},
   "outputs": [
    {
     "name": "stdout",
     "output_type": "stream",
     "text": [
      "n\tt\tcan fix errors\n",
      "7\t2\t3\n",
      "15\t4\t7\n",
      "31\t4\t5\n"
     ]
    }
   ],
   "source": [
    "print('{0}\\t{1}\\t{2}'.format('n', 't', 'can fix errors'))\n",
    "n = 7\n",
    "t = 2\n",
    "\n",
    "b = BCH(n, t)\n",
    "if b.dist() > 2 * t + 1:\n",
    "    print('{0:d}\\t{1:d}\\t{2:d}'.format(n, t, b.dist()//2))\n",
    "\n",
    "n = 15\n",
    "t = 4\n",
    "\n",
    "b = BCH(n, t)\n",
    "if b.dist() > 2 * t + 1:\n",
    "    print('{0:d}\\t{1:d}\\t{2:d}'.format(n, t, b.dist()//2))\n",
    "    \n",
    "n = 31\n",
    "t = 4\n",
    "\n",
    "b = BCH(n, t)\n",
    "if b.dist() > 2 * t + 1:\n",
    "    print('{0:d}\\t{1:d}\\t{2:d}'.format(n, t, b.dist()//2))"
   ]
  },
  {
   "cell_type": "markdown",
   "metadata": {},
   "source": [
    "## Эксперимент 2 (пункт задания 2.2)"
   ]
  },
  {
   "cell_type": "code",
   "execution_count": 43,
   "metadata": {},
   "outputs": [],
   "source": [
    "def stat_test(coder, test_num, max_errors):\n",
    "    correct = np.zeros(max_errors + 1)\n",
    "    wrong = np.zeros(max_errors + 1)\n",
    "    rejected = np.zeros(max_errors + 1)\n",
    "\n",
    "    for n_errors in range(max_errors + 1):\n",
    "        u = np.random.randint(0, 2, [test_num, coder.k])\n",
    "        v = coder.encode(u)\n",
    "        w = v\n",
    "        for row in w:\n",
    "            errors = np.random.choice(row.shape[0], n_errors, False)\n",
    "            row[errors] ^= 1\n",
    "            \n",
    "        w_1 = coder.decode(w)\n",
    "        u_1 = w_1[:, :coder.k]\n",
    "\n",
    "        for i in range(u_1.shape[0]):\n",
    "            if u_1[i][0] < 0:\n",
    "                rejected[n_errors] += 1\n",
    "            elif (u_1[i] ^ u[i]).sum() == 0:\n",
    "                correct[n_errors] += 1\n",
    "            else:\n",
    "                wrong[n_errors] += 1\n",
    "                \n",
    "    fig, ax = plt.subplots(1, 1, figsize=(15, 8))\n",
    "\n",
    "    ax.bar(np.arange(0, correct.shape[0]), correct, bottom=0, label='Исправление', color='g')\n",
    "    ax.bar(np.arange(0, rejected.shape[0]), rejected, bottom=correct, label='Отказ', color='y')\n",
    "    ax.bar(np.arange(0, wrong.shape[0]), wrong, bottom=correct + rejected, label='Ошибка', color='r')    \n",
    "    ax.legend(loc='upper right')\n",
    "    ax.set_xlabel('Ошибок из-за помех', fontsize = 20)\n",
    "    ax.set_ylabel('Испытаний', fontsize = 20)"
   ]
  },
  {
   "cell_type": "code",
   "execution_count": 44,
   "metadata": {},
   "outputs": [
    {
     "data": {
      "image/png": "[encoded data removed]",
      "text/plain": [
       "<Figure size 1080x576 with 1 Axes>"
      ]
     },
     "metadata": {
      "needs_background": "light"
     },
     "output_type": "display_data"
    }
   ],
   "source": [
    "stat_test(BCH(15, 3), 100, 10)"
   ]
  },
  {
   "cell_type": "code",
   "execution_count": 45,
   "metadata": {},
   "outputs": [
    {
     "data": {
      "image/png": "[encoded data removed]",
      "text/plain": [
       "<Figure size 1080x576 with 1 Axes>"
      ]
     },
     "metadata": {
      "needs_background": "light"
     },
     "output_type": "display_data"
    }
   ],
   "source": [
    "stat_test(BCH(15, 6), 100, 12)"
   ]
  },
  {
   "cell_type": "markdown",
   "metadata": {},
   "source": [
    "Как мы можем видеть, коды действительно исправляют столько ошибок, сколько должны по построению. После этого момента некоторое количество ошибок код отказывается исправлять, после чего искажённые кодовые слова начинают попадать в окрестности неверных кодовых слов и алгоритм начинает неверно восстанавливать сообщения."
   ]
  },
  {
   "cell_type": "markdown",
   "metadata": {},
   "source": [
    "## Эксперимент 3 (пункт задания 2.3)"
   ]
  },
  {
   "cell_type": "markdown",
   "metadata": {},
   "source": [
    "Сравним скорость работы декодеров PGZ и основанного на расширенном алгоритме Евклида. Априорно ожидается, что PGZ будет работать медленнее из-за решения СЛАУ N раз подряд - значительно больше операций, чем в алгоритме Евклида."
   ]
  },
  {
   "cell_type": "code",
   "execution_count": 47,
   "metadata": {},
   "outputs": [],
   "source": [
    "from timeit import timeit"
   ]
  },
  {
   "cell_type": "code",
   "execution_count": 86,
   "metadata": {},
   "outputs": [],
   "source": [
    "n_powers = range(3, 10)\n",
    "pgz = []\n",
    "euclid = []\n",
    "ns = [(1 << n_p) - 1 for n_p in n_powers]"
   ]
  },
  {
   "cell_type": "code",
   "execution_count": 87,
   "metadata": {},
   "outputs": [],
   "source": [
    "for n_p in n_powers:\n",
    "    coder = BCH((1 << n_p) - 1, (1 << (n_p - 2)) * 3)\n",
    "    msg = coder.encode(np.random.randint(0, 2, [1, coder.k]))\n",
    "    errors = np.random.choice(coder.n, size=n_p, replace=False)\n",
    "    msg[0, errors] ^= 1\n",
    "    \n",
    "    pgz.append(timeit(lambda: coder.decode(msg, method='pgz'), number=1))\n",
    "    euclid.append(timeit(lambda: coder.decode(msg, method='euclid'), number=1))"
   ]
  },
  {
   "cell_type": "code",
   "execution_count": 88,
   "metadata": {},
   "outputs": [
    {
     "data": {
      "text/plain": [
       "Text(0, 0.5, 'Время работы (с)')"
      ]
     },
     "execution_count": 88,
     "metadata": {},
     "output_type": "execute_result"
    },
    {
     "data": {
      "image/png": "[encoded data removed]",
      "text/plain": [
       "<Figure size 1080x576 with 1 Axes>"
      ]
     },
     "metadata": {
      "needs_background": "light"
     },
     "output_type": "display_data"
    }
   ],
   "source": [
    "fig, ax = plt.subplots(1, 1, figsize=(15, 8))\n",
    "ax.plot(ns, euclid, label='Euclid', color='g')\n",
    "ax.plot(ns, pgz, label='PGZ', color='r')\n",
    "ax.legend(fontsize=18)\n",
    "ax.grid(True)\n",
    "ax.set_title('Зависимость времени работы от длины передаваемого сообщения', fontsize=18)\n",
    "ax.set_xlabel('Длина сообщения', fontsize = 20)\n",
    "ax.set_ylabel('Время работы (с)', fontsize = 20)"
   ]
  },
  {
   "cell_type": "code",
   "execution_count": 89,
   "metadata": {},
   "outputs": [
    {
     "data": {
      "text/plain": [
       "Text(0, 0.5, 'Время работы (с)')"
      ]
     },
     "execution_count": 89,
     "metadata": {},
     "output_type": "execute_result"
    },
    {
     "data": {
      "image/png": "[encoded data removed]",
      "text/plain": [
       "<Figure size 1080x576 with 1 Axes>"
      ]
     },
     "metadata": {
      "needs_background": "light"
     },
     "output_type": "display_data"
    }
   ],
   "source": [
    "fig, ax = plt.subplots(1, 1, figsize=(15, 8))\n",
    "ax.plot(ns, euclid, label='Euclid', color='g')\n",
    "ax.legend(fontsize=18)\n",
    "ax.grid(True)\n",
    "ax.set_title('Зависимость времени работы от длины передаваемого сообщения', fontsize=18)\n",
    "ax.set_xlabel('Длина сообщения', fontsize = 20)\n",
    "ax.set_ylabel('Время работы (с)', fontsize = 20)"
   ]
  },
  {
   "cell_type": "markdown",
   "metadata": {},
   "source": [
    "И действительно, эксперимент показывает, что декодер PGZ значительно дольше работает, чем расширенный алгоритм Евклида. Однако, рассмотренный диапазон значений длины не позволяет продемонстрировать нелинейную разницу, на исследованных выглядит так, будто PGZ просто в несколько сотен раз медленнее на любом входе."
   ]
  },
  {
   "cell_type": "markdown",
   "metadata": {},
   "source": [
    "## Демонстрация работы классов и функций в ООП-стиле (Бонус)"
   ]
  },
  {
   "cell_type": "code",
   "execution_count": 92,
   "metadata": {},
   "outputs": [],
   "source": [
    "import gf_oop"
   ]
  },
  {
   "cell_type": "markdown",
   "metadata": {},
   "source": [
    "Будем работать в конечном поле **GF(2)[x]/(x^3+x+1)**. Сначала создадим матрицу степеней элементов, это необходимо для инстанцирования любых объектов в этом поле (именно матрица задаёт, в каком поле мы работаем)."
   ]
  },
  {
   "cell_type": "code",
   "execution_count": 93,
   "metadata": {},
   "outputs": [],
   "source": [
    "pm = gf_oop.gen_pow_matrix(11)"
   ]
  },
  {
   "cell_type": "code",
   "execution_count": 94,
   "metadata": {},
   "outputs": [
    {
     "data": {
      "text/plain": [
       "array([[7, 2],\n",
       "       [1, 4],\n",
       "       [3, 3],\n",
       "       [2, 6],\n",
       "       [6, 7],\n",
       "       [4, 5],\n",
       "       [5, 1]])"
      ]
     },
     "execution_count": 94,
     "metadata": {},
     "output_type": "execute_result"
    }
   ],
   "source": [
    "pm"
   ]
  },
  {
   "cell_type": "markdown",
   "metadata": {},
   "source": [
    "Результат работы совпадает с теоретическим знанием."
   ]
  },
  {
   "cell_type": "markdown",
   "metadata": {},
   "source": [
    "Автор реализовал возможность инстанцирования элементов поля как по численному значению, так и по степенному:"
   ]
  },
  {
   "cell_type": "code",
   "execution_count": 96,
   "metadata": {},
   "outputs": [],
   "source": [
    "elem1 = gf_oop.F2qElement(6, 'num', pm)\n",
    "elem2 = gf_oop.F2qElement(2, 'pow', pm)"
   ]
  },
  {
   "cell_type": "code",
   "execution_count": 98,
   "metadata": {},
   "outputs": [
    {
     "data": {
      "text/plain": [
       "(6, 4)"
      ]
     },
     "execution_count": 98,
     "metadata": {},
     "output_type": "execute_result"
    }
   ],
   "source": [
    "elem1.num, elem1.pow"
   ]
  },
  {
   "cell_type": "code",
   "execution_count": 99,
   "metadata": {},
   "outputs": [
    {
     "data": {
      "text/plain": [
       "(4, 2)"
      ]
     },
     "execution_count": 99,
     "metadata": {},
     "output_type": "execute_result"
    }
   ],
   "source": [
    "elem2.num, elem2.pow"
   ]
  },
  {
   "cell_type": "markdown",
   "metadata": {},
   "source": [
    "Всё так, как и ожидается."
   ]
  },
  {
   "cell_type": "markdown",
   "metadata": {},
   "source": [
    "Элементы конечных полей можно складывать, умножать, делить:"
   ]
  },
  {
   "cell_type": "code",
   "execution_count": 102,
   "metadata": {},
   "outputs": [
    {
     "data": {
      "text/plain": [
       "(2, 1)"
      ]
     },
     "execution_count": 102,
     "metadata": {},
     "output_type": "execute_result"
    }
   ],
   "source": [
    "(elem1 + elem2).num, (elem1 + elem2).pow"
   ]
  },
  {
   "cell_type": "code",
   "execution_count": 106,
   "metadata": {},
   "outputs": [
    {
     "data": {
      "text/plain": [
       "(5, 6)"
      ]
     },
     "execution_count": 106,
     "metadata": {},
     "output_type": "execute_result"
    }
   ],
   "source": [
    "(elem1 * elem2).num, (elem1 * elem2).pow"
   ]
  },
  {
   "cell_type": "code",
   "execution_count": 107,
   "metadata": {},
   "outputs": [
    {
     "data": {
      "text/plain": [
       "(4, 2)"
      ]
     },
     "execution_count": 107,
     "metadata": {},
     "output_type": "execute_result"
    }
   ],
   "source": [
    "(elem1 / elem2).num, (elem1 / elem2).pow"
   ]
  },
  {
   "cell_type": "markdown",
   "metadata": {},
   "source": [
    "Проверить, что всё работает правильно, можно, используя выведенные степени и таблицу переходов, которую автор вывел чуть выше."
   ]
  },
  {
   "cell_type": "markdown",
   "metadata": {},
   "source": [
    "Продемонстрируем такую же работу с многочленами в конструкции **(GF(2)[x]/(x^3+x+1))[X]**. Многочлены допускают уже три способа инстанцирования:"
   ]
  },
  {
   "cell_type": "code",
   "execution_count": 110,
   "metadata": {},
   "outputs": [],
   "source": [
    "pol1 = gf_oop.F2qPolynomial([elem1, elem2], 'elem', pm)\n",
    "pol2 = gf_oop.F2qPolynomial([3, 2], 'num', pm)\n",
    "pol3 = gf_oop.F2qPolynomial([6, 5], 'pow', pm)"
   ]
  },
  {
   "cell_type": "code",
   "execution_count": 111,
   "metadata": {},
   "outputs": [
    {
     "data": {
      "text/plain": [
       "([6, 4], [4, 2])"
      ]
     },
     "execution_count": 111,
     "metadata": {},
     "output_type": "execute_result"
    }
   ],
   "source": [
    "[elem.num for elem in pol1.coefs], [elem.pow for elem in pol1.coefs]"
   ]
  },
  {
   "cell_type": "code",
   "execution_count": 112,
   "metadata": {},
   "outputs": [
    {
     "data": {
      "text/plain": [
       "([3, 2], [3, 1])"
      ]
     },
     "execution_count": 112,
     "metadata": {},
     "output_type": "execute_result"
    }
   ],
   "source": [
    "[elem.num for elem in pol2.coefs], [elem.pow for elem in pol2.coefs]"
   ]
  },
  {
   "cell_type": "code",
   "execution_count": 113,
   "metadata": {},
   "outputs": [
    {
     "data": {
      "text/plain": [
       "([5, 7], [6, 5])"
      ]
     },
     "execution_count": 113,
     "metadata": {},
     "output_type": "execute_result"
    }
   ],
   "source": [
    "[elem.num for elem in pol3.coefs], [elem.pow for elem in pol3.coefs]"
   ]
  },
  {
   "cell_type": "code",
   "execution_count": 117,
   "metadata": {},
   "outputs": [],
   "source": [
    "pol4 = pol1 + pol2"
   ]
  },
  {
   "cell_type": "code",
   "execution_count": 118,
   "metadata": {},
   "outputs": [
    {
     "data": {
      "text/plain": [
       "([5, 6], [6, 4])"
      ]
     },
     "execution_count": 118,
     "metadata": {},
     "output_type": "execute_result"
    }
   ],
   "source": [
    "[elem.num for elem in pol4.coefs], [elem.pow for elem in pol4.coefs]"
   ]
  },
  {
   "cell_type": "code",
   "execution_count": 124,
   "metadata": {},
   "outputs": [],
   "source": [
    "pol5 = pol2 * pol3"
   ]
  },
  {
   "cell_type": "code",
   "execution_count": 125,
   "metadata": {},
   "outputs": [
    {
     "data": {
      "text/plain": [
       "([4, 3, 5], [2, 3, 6])"
      ]
     },
     "execution_count": 125,
     "metadata": {},
     "output_type": "execute_result"
    }
   ],
   "source": [
    "[elem.num for elem in pol5.coefs], [elem.pow for elem in pol5.coefs]"
   ]
  },
  {
   "cell_type": "markdown",
   "metadata": {},
   "source": [
    "Проведя вычисления на бумаге, можно убедиться, что функции реализованы правильно."
   ]
  }
 ],
 "metadata": {
  "kernelspec": {
   "display_name": "Python 3",
   "language": "python",
   "name": "python3"
  },
  "language_info": {
   "codemirror_mode": {
    "name": "ipython",
    "version": 3
   },
   "file_extension": ".py",
   "mimetype": "text/x-python",
   "name": "python",
   "nbconvert_exporter": "python",
   "pygments_lexer": "ipython3",
   "version": "3.6.8"
  }
 },
 "nbformat": 4,
 "nbformat_minor": 2
}
